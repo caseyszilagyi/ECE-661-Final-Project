{
  "cells": [
    {
      "cell_type": "markdown",
      "metadata": {
        "id": "hpx1JAesULnN"
      },
      "source": [
        "# Setup:\n"
      ]
    },
    {
      "cell_type": "code",
      "execution_count": 2,
      "metadata": {
        "colab": {
          "base_uri": "https://localhost:8080/"
        },
        "id": "tKFRRB8qT9ED",
        "outputId": "cc89228e-aade-4793-c35e-8d5fdef28034"
      },
      "outputs": [
        {
          "output_type": "stream",
          "name": "stdout",
          "text": [
            "Drive already mounted at /content/drive; to attempt to forcibly remount, call drive.mount(\"/content/drive\", force_remount=True).\n"
          ]
        }
      ],
      "source": [
        "# Casey Mount Google Drive\n",
        "from google.colab import drive\n",
        "drive.mount('/content/drive')\n",
        "import sys\n",
        "sys.path.append('/content/drive/MyDrive/ECE 661/Final Project')"
      ]
    },
    {
      "cell_type": "code",
      "execution_count": 3,
      "metadata": {
        "id": "MZVUD6-wUrnF"
      },
      "outputs": [],
      "source": [
        "# Dependencies\n",
        "import argparse\n",
        "import os, sys\n",
        "import time\n",
        "import datetime\n",
        "from tqdm import tqdm_notebook as tqdm\n",
        "import numpy as np\n",
        "\n",
        "import torch\n",
        "import torch.nn as nn\n",
        "import torch.nn.functional as F\n",
        "import torch.nn.init as init\n",
        "import torch.optim as optim\n",
        "from torch.autograd import Variable\n",
        "\n",
        "import torchvision\n",
        "import torchvision.transforms as transforms\n",
        "\n",
        "#from tools.dataset import CIFAR10\n",
        "#from torch.utils.data import DataLoader"
      ]
    },
    {
      "cell_type": "markdown",
      "metadata": {
        "id": "JHe82gKxiSnH"
      },
      "source": [
        "# ResNet Code"
      ]
    },
    {
      "cell_type": "code",
      "execution_count": 4,
      "metadata": {
        "colab": {
          "base_uri": "https://localhost:8080/"
        },
        "id": "0rf2LOd_iRYV",
        "outputId": "21a1e840-40a6-417a-c782-6caa0a69f1af"
      },
      "outputs": [
        {
          "output_type": "stream",
          "name": "stdout",
          "text": [
            "resnet20\n",
            "Total number of params 269722\n",
            "Total layers 20\n",
            "\n",
            "resnet32\n",
            "Total number of params 464154\n",
            "Total layers 32\n",
            "\n",
            "resnet44\n",
            "Total number of params 658586\n",
            "Total layers 44\n",
            "\n",
            "resnet56\n",
            "Total number of params 853018\n",
            "Total layers 56\n",
            "\n",
            "resnet110\n",
            "Total number of params 1727962\n",
            "Total layers 110\n",
            "\n",
            "resnet1202\n",
            "Total number of params 19421274\n",
            "Total layers 1202\n",
            "\n"
          ]
        }
      ],
      "source": [
        "'''\n",
        "Properly implemented ResNet-s for CIFAR10 as described in paper [1].\n",
        "The implementation and structure of this file is hugely influenced by [2]\n",
        "which is implemented for ImageNet and doesn't have option A for identity.\n",
        "Moreover, most of the implementations on the web is copy-paste from\n",
        "torchvision's resnet and has wrong number of params.\n",
        "Proper ResNet-s for CIFAR10 (for fair comparision and etc.) has following\n",
        "number of layers and parameters:\n",
        "name      | layers | params\n",
        "ResNet20  |    20  | 0.27M\n",
        "ResNet32  |    32  | 0.46M\n",
        "ResNet44  |    44  | 0.66M\n",
        "ResNet56  |    56  | 0.85M\n",
        "ResNet110 |   110  |  1.7M\n",
        "ResNet1202|  1202  | 19.4m\n",
        "which this implementation indeed has.\n",
        "Reference:\n",
        "[1] Kaiming He, Xiangyu Zhang, Shaoqing Ren, Jian Sun\n",
        "    Deep Residual Learning for Image Recognition. arXiv:1512.03385\n",
        "[2] https://github.com/pytorch/vision/blob/master/torchvision/models/resnet.py\n",
        "If you use this implementation in you work, please don't forget to mention the\n",
        "author, Yerlan Idelbayev.\n",
        "'''\n",
        "\n",
        "__all__ = ['ResNet', 'resnet20', 'resnet32', 'resnet44', 'resnet56', 'resnet110', 'resnet1202']\n",
        "\n",
        "def _weights_init(m):\n",
        "    classname = m.__class__.__name__\n",
        "    #print(classname)\n",
        "    if isinstance(m, nn.Linear) or isinstance(m, nn.Conv2d):\n",
        "        init.kaiming_normal_(m.weight)\n",
        "\n",
        "class LambdaLayer(nn.Module):\n",
        "    def __init__(self, lambd):\n",
        "        super(LambdaLayer, self).__init__()\n",
        "        self.lambd = lambd\n",
        "\n",
        "    def forward(self, x):\n",
        "        return self.lambd(x)\n",
        "\n",
        "\n",
        "class BasicBlock(nn.Module):\n",
        "    expansion = 1\n",
        "\n",
        "    def __init__(self, in_planes, planes, stride=1, option='A'):\n",
        "        super(BasicBlock, self).__init__()\n",
        "        self.conv1 = nn.Conv2d(in_planes, planes, kernel_size=3, stride=stride, padding=1, bias=False)\n",
        "        self.bn1 = nn.BatchNorm2d(planes)\n",
        "        self.conv2 = nn.Conv2d(planes, planes, kernel_size=3, stride=1, padding=1, bias=False)\n",
        "        self.bn2 = nn.BatchNorm2d(planes)\n",
        "\n",
        "        self.shortcut = nn.Sequential()\n",
        "        if stride != 1 or in_planes != planes:\n",
        "            if option == 'A':\n",
        "                \"\"\"\n",
        "                For CIFAR10 ResNet paper uses option A.\n",
        "                \"\"\"\n",
        "                self.shortcut = LambdaLayer(lambda x:\n",
        "                                            F.pad(x[:, :, ::2, ::2], (0, 0, 0, 0, planes//4, planes//4), \"constant\", 0))\n",
        "            elif option == 'B':\n",
        "                self.shortcut = nn.Sequential(\n",
        "                     nn.Conv2d(in_planes, self.expansion * planes, kernel_size=1, stride=stride, bias=False),\n",
        "                     nn.BatchNorm2d(self.expansion * planes)\n",
        "                )\n",
        "\n",
        "    def forward(self, x):\n",
        "        out = F.relu(self.bn1(self.conv1(x)))\n",
        "        out = self.bn2(self.conv2(out))\n",
        "        out += self.shortcut(x)\n",
        "        out = F.relu(out)\n",
        "        return out\n",
        "\n",
        "\n",
        "class ResNet(nn.Module):\n",
        "    def __init__(self, block, num_blocks, num_classes=10):\n",
        "        super(ResNet, self).__init__()\n",
        "        self.in_planes = 16\n",
        "\n",
        "        self.conv1 = nn.Conv2d(3, 16, kernel_size=3, stride=1, padding=1, bias=False)\n",
        "        self.bn1 = nn.BatchNorm2d(16)\n",
        "        self.layer1 = self._make_layer(block, 16, num_blocks[0], stride=1)\n",
        "        self.layer2 = self._make_layer(block, 32, num_blocks[1], stride=2)\n",
        "        self.layer3 = self._make_layer(block, 64, num_blocks[2], stride=2)\n",
        "        self.linear = nn.Linear(64, num_classes)\n",
        "\n",
        "        self.apply(_weights_init)\n",
        "\n",
        "    def _make_layer(self, block, planes, num_blocks, stride):\n",
        "        strides = [stride] + [1]*(num_blocks-1)\n",
        "        layers = []\n",
        "        for stride in strides:\n",
        "            layers.append(block(self.in_planes, planes, stride))\n",
        "            self.in_planes = planes * block.expansion\n",
        "\n",
        "        return nn.Sequential(*layers)\n",
        "\n",
        "    def forward(self, x):\n",
        "        out = F.relu(self.bn1(self.conv1(x)))\n",
        "        out = self.layer1(out)\n",
        "        out = self.layer2(out)\n",
        "        out = self.layer3(out)\n",
        "        out = F.avg_pool2d(out, out.size()[3])\n",
        "        out = out.view(out.size(0), -1)\n",
        "        out = self.linear(out)\n",
        "        return out\n",
        "\n",
        "\n",
        "def resnet20():\n",
        "    return ResNet(BasicBlock, [3, 3, 3])\n",
        "\n",
        "\n",
        "def resnet32():\n",
        "    return ResNet(BasicBlock, [5, 5, 5])\n",
        "\n",
        "\n",
        "def resnet44():\n",
        "    return ResNet(BasicBlock, [7, 7, 7])\n",
        "\n",
        "\n",
        "def resnet56():\n",
        "    return ResNet(BasicBlock, [9, 9, 9])\n",
        "\n",
        "\n",
        "def resnet110():\n",
        "    return ResNet(BasicBlock, [18, 18, 18])\n",
        "\n",
        "\n",
        "def resnet1202():\n",
        "    return ResNet(BasicBlock, [200, 200, 200])\n",
        "\n",
        "\n",
        "def test(net):\n",
        "    import numpy as np\n",
        "    total_params = 0\n",
        "\n",
        "    for x in filter(lambda p: p.requires_grad, net.parameters()):\n",
        "        total_params += np.prod(x.data.numpy().shape)\n",
        "    print(\"Total number of params\", total_params)\n",
        "    print(\"Total layers\", len(list(filter(lambda p: p.requires_grad and len(p.data.size())>1, net.parameters()))))\n",
        "\n",
        "\n",
        "if __name__ == \"__main__\":\n",
        "    for net_name in __all__:\n",
        "        if net_name.startswith('resnet'):\n",
        "            print(net_name)\n",
        "            test(globals()[net_name]())\n",
        "            print()"
      ]
    },
    {
      "cell_type": "markdown",
      "metadata": {
        "id": "O7MPUvV5aLVX"
      },
      "source": [
        "# RotNet (Do not change any of the below for SimCLR)\n"
      ]
    },
    {
      "cell_type": "code",
      "execution_count": 5,
      "metadata": {
        "colab": {
          "base_uri": "https://localhost:8080/"
        },
        "id": "Ospo5D1LUnAi",
        "outputId": "253bf14c-c5d5-48a3-8e52-37685f46f671"
      },
      "outputs": [
        {
          "output_type": "stream",
          "name": "stdout",
          "text": [
            "==> Preparing data..\n",
            "Files already downloaded and verified\n",
            "Files already downloaded and verified\n"
          ]
        },
        {
          "output_type": "stream",
          "name": "stderr",
          "text": [
            "/usr/local/lib/python3.8/dist-packages/torch/utils/data/dataloader.py:554: UserWarning: This DataLoader will create 16 worker processes in total. Our suggested max number of worker in current system is 2, which is smaller than what this DataLoader is going to create. Please be aware that excessive worker creation might get DataLoader running slow or even freeze, lower the worker number to avoid potential slowness/freeze if necessary.\n",
            "  warnings.warn(_create_warning_msg(\n"
          ]
        }
      ],
      "source": [
        "# Loading in CIFAR Dataset\n",
        "print('==> Preparing data..')\n",
        "transform_train = transforms.Compose([\n",
        "    transforms.ToTensor(),\n",
        "    transforms.Normalize((0.4914, 0.4822, 0.4465), (0.2023, 0.1994, 0.2010)),\n",
        "])\n",
        "\n",
        "transform_val = transforms.Compose([\n",
        "    transforms.ToTensor(),\n",
        "    transforms.Normalize((0.4914, 0.4822, 0.4465), (0.2023, 0.1994, 0.2010)),\n",
        "])\n",
        "\n",
        "trainset = torchvision.datasets.CIFAR10(root='./data', train=True, download=True, transform=transform_train)\n",
        "valset = torchvision.datasets.CIFAR10(root='./data', train=False, download=True, transform=transform_val)\n",
        "\n",
        "train_loader = torch.utils.data.DataLoader(trainset, batch_size=128, shuffle=True, num_workers=16)\n",
        "val_loader = torch.utils.data.DataLoader(valset, batch_size=100, shuffle=False, num_workers=2)"
      ]
    },
    {
      "cell_type": "code",
      "execution_count": null,
      "metadata": {
        "id": "yolGxdedtAIa"
      },
      "outputs": [],
      "source": [
        "# Convert the batch into 4 rotated images\n",
        "\n",
        "def rotnet_conversion(batch):\n",
        "  size = batch.size()\n",
        "  new_batch = torch.empty((0, size[1], size[2], size[3]))\n",
        "  new_labels = torch.LongTensor([])\n",
        "  for idx in range(size[0]):\n",
        "    original_img = batch[idx]\n",
        "    rot_0 = original_img\n",
        "    rot_90 = transforms.functional.rotate(original_img, 90)\n",
        "    rot_180 = transforms.functional.rotate(original_img, 180)\n",
        "    rot_270 = transforms.functional.rotate(original_img, 270)\n",
        "    rot_images = torch.stack((rot_0, rot_90, rot_180, rot_270), 0)\n",
        "    rot_labels = torch.LongTensor([0,1,2,3])\n",
        "\n",
        "    new_batch = torch.cat((new_batch, rot_images))\n",
        "    new_labels = torch.cat((new_labels, rot_labels))\n",
        "  return new_batch, new_labels"
      ]
    },
    {
      "cell_type": "code",
      "execution_count": null,
      "metadata": {
        "id": "7ICT9X0XVsMT"
      },
      "outputs": [],
      "source": [
        "# RotNet Setup\n",
        "device = 'cuda' if torch.cuda.is_available() else 'cpu'\n",
        "\n",
        "net = ResNet(BasicBlock, [3, 3, 3], num_classes = 4)\n",
        "net.to(device)\n",
        "\n",
        "# Parameters (as described in the paper)\n",
        "INITIAL_LR = 0.1\n",
        "MOMENTUM = 0.9\n",
        "REG = 5e-4\n",
        "criterion = nn.CrossEntropyLoss()\n",
        "optimizer = optim.SGD(net.parameters(), lr = INITIAL_LR, momentum = MOMENTUM, weight_decay = REG)\n",
        "EPOCHS = 100\n",
        "DECAY_EPOCHS = {30, 60, 80}\n",
        "DECAY = 0.2"
      ]
    },
    {
      "cell_type": "code",
      "execution_count": null,
      "metadata": {
        "colab": {
          "base_uri": "https://localhost:8080/"
        },
        "id": "6i16vO98WeAb",
        "outputId": "c3ef705c-bdd7-42d3-f10a-71e2f25bbda9"
      },
      "outputs": [
        {
          "name": "stdout",
          "output_type": "stream",
          "text": [
            "==> Training starts!\n",
            "==================================================\n",
            "Epoch 0:\n",
            "Training loss: 1.0009, Training accuracy: 0.5664\n",
            "Validation loss: 0.8996, Validation accuracy: 0.6251\n",
            "Saving ...\n",
            "\n",
            "Epoch 1:\n",
            "Training loss: 0.8178, Training accuracy: 0.6652\n",
            "Validation loss: 0.8420, Validation accuracy: 0.6599\n",
            "Saving ...\n",
            "\n",
            "Epoch 2:\n",
            "Training loss: 0.6989, Training accuracy: 0.7193\n",
            "Validation loss: 0.7149, Validation accuracy: 0.7163\n",
            "Saving ...\n",
            "\n",
            "Epoch 3:\n",
            "Training loss: 0.5985, Training accuracy: 0.7648\n",
            "Validation loss: 0.6251, Validation accuracy: 0.7573\n",
            "Saving ...\n",
            "\n",
            "Epoch 4:\n",
            "Training loss: 0.5395, Training accuracy: 0.7917\n",
            "Validation loss: 0.5592, Validation accuracy: 0.7809\n",
            "Saving ...\n",
            "\n",
            "Epoch 5:\n",
            "Training loss: 0.4960, Training accuracy: 0.8092\n",
            "Validation loss: 0.6103, Validation accuracy: 0.7615\n",
            "\n",
            "Epoch 6:\n",
            "Training loss: 0.4662, Training accuracy: 0.8222\n"
          ]
        }
      ],
      "source": [
        "# Training the RotNet with rotated images\n",
        "CHECKPOINT_FOLDER = \"./content/drive/MyDrive/ECE 661/Final Project\"\n",
        "\n",
        "best_val_acc = 0\n",
        "current_learning_rate = INITIAL_LR\n",
        "\n",
        "print(\"==> Training starts!\")\n",
        "print(\"=\"*50)\n",
        "for i in range(0, EPOCHS):\n",
        "    # handle the learning rate scheduler.\n",
        "    if i in DECAY_EPOCHS:\n",
        "        current_learning_rate = current_learning_rate * DECAY\n",
        "        for param_group in optimizer.param_groups:\n",
        "            param_group['lr'] = current_learning_rate\n",
        "        print(\"Current learning rate has decayed to %f\" %current_learning_rate)\n",
        "    \n",
        "    # Training\n",
        "    net.train()\n",
        "    total_examples = 0\n",
        "    correct_examples = 0\n",
        "    train_loss = 0\n",
        "    \n",
        "    print(\"Epoch %d:\" %i)\n",
        "    \n",
        "    # One Epoch\n",
        "    for batch_idx, (inputs, targets) in enumerate(train_loader):\n",
        "      \n",
        "        inputs, targets = rotnet_conversion(inputs)\n",
        "        \n",
        "        inputs = inputs.to(device)\n",
        "        targets = targets.to(device)\n",
        "        out = net.forward(inputs)\n",
        "        loss = criterion(out, targets)\n",
        "        net.zero_grad()\n",
        "        loss.backward()\n",
        "        train_loss += loss\n",
        "        optimizer.step()\n",
        "        \n",
        "        # Counting Correct Predictions\n",
        "        for idx, val in enumerate(out):\n",
        "          max_out_idx = torch.argmax(val)\n",
        "          target_idx = targets[idx]\n",
        "\n",
        "          if max_out_idx == target_idx:\n",
        "            correct_examples += 1\n",
        "          \n",
        "          total_examples += 1\n",
        "\n",
        "\n",
        "    # Compute Loss/Accuracy     \n",
        "    avg_loss = train_loss / len(train_loader)\n",
        "    avg_acc = correct_examples / total_examples\n",
        "    print(\"Training loss: %.4f, Training accuracy: %.4f\" %(avg_loss, avg_acc))\n",
        "\n",
        "    # Validation\n",
        "    net.eval()\n",
        "    total_examples = 0\n",
        "    correct_examples = 0\n",
        "    val_loss = 0\n",
        "\n",
        "    # disable gradient during validation, which can save GPU memory\n",
        "    with torch.no_grad():\n",
        "        for batch_idx, (inputs, targets) in enumerate(val_loader):\n",
        "\n",
        "            inputs, targets = rotnet_conversion(inputs)\n",
        "\n",
        "            inputs = inputs.to(device)\n",
        "            targets = targets.to(device)\n",
        "            out = net.forward(inputs)\n",
        "            loss = criterion(out, targets)\n",
        "            val_loss += loss\n",
        "\n",
        "            # Counting Correct Predictions\n",
        "            for idx, val in enumerate(out):\n",
        "              max_out_idx = torch.argmax(val)\n",
        "              target_idx = targets[idx]\n",
        "\n",
        "              if max_out_idx == target_idx:\n",
        "                correct_examples += 1\n",
        "              \n",
        "              total_examples += 1\n",
        "\n",
        "    avg_loss = val_loss / len(val_loader)\n",
        "    avg_acc = correct_examples / total_examples\n",
        "    print(\"Validation loss: %.4f, Validation accuracy: %.4f\" % (avg_loss, avg_acc))\n",
        "    \n",
        "    # save the model checkpoint\n",
        "    if avg_acc > best_val_acc:\n",
        "        best_val_acc = avg_acc\n",
        "        if not os.path.exists(CHECKPOINT_FOLDER):\n",
        "            os.makedirs(CHECKPOINT_FOLDER)\n",
        "        print(\"Saving ...\")\n",
        "        state = {'state_dict': net.state_dict(),\n",
        "                 'epoch': i,\n",
        "                 'lr': current_learning_rate}\n",
        "        torch.save(state, os.path.join(CHECKPOINT_FOLDER, 'RotNet.pth'))\n",
        "        \n",
        "    print('')\n",
        "\n",
        "print(\"=\"*50)\n",
        "print(f\"==> Optimization finished! Best validation accuracy: {best_val_acc:.4f}\")"
      ]
    },
    {
      "cell_type": "markdown",
      "source": [
        "# Training RotNet model on original CIFAR task"
      ],
      "metadata": {
        "id": "ktEZ97dxoO-4"
      }
    },
    {
      "cell_type": "code",
      "source": [
        "def initialize_weights(layer):\n",
        "  init.kaiming_normal_(layer.weight)"
      ],
      "metadata": {
        "id": "HVasXcX1T0JC"
      },
      "execution_count": 86,
      "outputs": []
    },
    {
      "cell_type": "code",
      "source": [
        "class RotNet_Add_Linear_Layer(nn.Module):\n",
        "    # rotnet: The network trained on image rotation\n",
        "    def __init__(self, rotnet):\n",
        "        super(RotNet_Add_Linear_Layer, self).__init__()\n",
        "        self.in_planes = 16\n",
        "\n",
        "        self.conv1 = rotnet.conv1\n",
        "        self.bn1 = rotnet.bn1\n",
        "        self.layer1 = rotnet.layer1\n",
        "        self.layer2 = rotnet.layer2\n",
        "        self.layer3 = rotnet.layer3\n",
        "        self.linear = nn.Linear(64, 10)\n",
        "\n",
        "        initialize_weights(self.linear)\n",
        "\n",
        "    def forward(self, x):\n",
        "        out = F.relu(self.bn1(self.conv1(x)))\n",
        "        out = self.layer1(out)\n",
        "        out = self.layer2(out)\n",
        "        out = self.layer3(out)\n",
        "        out = F.avg_pool2d(out, out.size()[3])\n",
        "        out = out.view(out.size(0), -1)\n",
        "        out = self.linear(out)\n",
        "        return out"
      ],
      "metadata": {
        "id": "wMEmUpnMfh_a"
      },
      "execution_count": 115,
      "outputs": []
    },
    {
      "cell_type": "code",
      "source": [
        "class RotNet_Linear_Layer_After_Second_Conv(nn.Module):\n",
        "    # rotnet: The network trained on image rotation\n",
        "    def __init__(self, rotnet):\n",
        "        super(RotNet_Linear_Layer_After_Second_Conv, self).__init__()\n",
        "        self.in_planes = 16\n",
        "\n",
        "        self.conv1 = rotnet.conv1\n",
        "        self.bn1 = rotnet.bn1\n",
        "        self.layer1 = rotnet.layer1\n",
        "        self.layer2 = rotnet.layer2\n",
        "        self.linear = nn.Linear(8192, 10)\n",
        "\n",
        "        initialize_weights(self.linear)\n",
        "\n",
        "    def forward(self, x):\n",
        "        out = F.relu(self.bn1(self.conv1(x)))\n",
        "        out = self.layer1(out)\n",
        "        out = self.layer2(out)\n",
        "        out = out.view(out.size(0), -1)\n",
        "        out = self.linear(out)\n",
        "        return out"
      ],
      "metadata": {
        "id": "pPKqK4kIEunA"
      },
      "execution_count": 138,
      "outputs": []
    },
    {
      "cell_type": "code",
      "source": [
        "class RotNet_Conv_And_Linear_Layer_After_Second_Conv(nn.Module):\n",
        "    # rotnet: The network trained on image rotation\n",
        "    def __init__(self, rotnet, layer3):\n",
        "        super(RotNet_Conv_And_Linear_Layer_After_Second_Conv, self).__init__()\n",
        "        self.in_planes = 16\n",
        "\n",
        "        self.conv1 = rotnet.conv1\n",
        "        self.bn1 = rotnet.bn1\n",
        "        self.layer1 = rotnet.layer1\n",
        "        self.layer2 = rotnet.layer2\n",
        "        self.layer3 = layer3\n",
        "        self.linear = nn.Linear(64, 10)\n",
        "\n",
        "        initialize_weights(self.linear)\n",
        "\n",
        "    def forward(self, x):\n",
        "        out = F.relu(self.bn1(self.conv1(x)))\n",
        "        out = self.layer1(out)\n",
        "        out = self.layer2(out)\n",
        "        out = self.layer3(out)\n",
        "        out = F.avg_pool2d(out, out.size()[3])\n",
        "        out = out.view(out.size(0), -1)\n",
        "        out = self.linear(out)\n",
        "        return out\n",
        "\n",
        "\n"
      ],
      "metadata": {
        "id": "Rs7fsFHxLBRI"
      },
      "execution_count": 109,
      "outputs": []
    },
    {
      "cell_type": "code",
      "source": [
        "# Loading in Rotnet model\n",
        "RotNet_path = \"/content/drive/MyDrive/ECE 661/Final Project/RotNetFinal.pth\"\n",
        "\n",
        "device = 'cuda' if torch.cuda.is_available() else 'cpu'\n",
        "rotnet = ResNet(BasicBlock, [3, 3, 3], num_classes = 4)\n",
        "rotnet.load_state_dict(torch.load(RotNet_path)[\"state_dict\"])\n",
        "torch.manual_seed(2022)\n",
        "\n",
        "# Parameters\n",
        "INITIAL_LR = 0.1\n",
        "MOMENTUM = 0.9\n",
        "REG = 5e-4\n",
        "criterion = nn.CrossEntropyLoss()\n",
        "EPOCHS = 50\n",
        "DECAY_EPOCHS = {15, 30, 40}\n",
        "DECAY = 0.2"
      ],
      "metadata": {
        "id": "ajefgex7egZ4"
      },
      "execution_count": 144,
      "outputs": []
    },
    {
      "cell_type": "code",
      "source": [
        "# Replacing the final linear layer with a new one\n",
        "net = RotNet_Add_Linear_Layer(rotnet)\n",
        "net = net.to(device)"
      ],
      "metadata": {
        "id": "Cw3Zoyqh0V-t"
      },
      "execution_count": 124,
      "outputs": []
    },
    {
      "cell_type": "code",
      "source": [
        "# Removing the final conv block, and put linear layer after second conv block\n",
        "net = RotNet_Linear_Layer_After_Second_Conv(rotnet)\n",
        "net = net.to(device)"
      ],
      "metadata": {
        "id": "O6MPxFcpBGdd"
      },
      "execution_count": 140,
      "outputs": []
    },
    {
      "cell_type": "code",
      "source": [
        "# Replace the final conv block/final linear layer with a new final conv block/linear layer\n",
        "dummy = ResNet(BasicBlock, [3, 3, 3], num_classes = 4)\n",
        "net = RotNet_Conv_And_Linear_Layer_After_Second_Conv(rotnet, dummy.layer3)\n",
        "net = net.to(device)"
      ],
      "metadata": {
        "id": "Ddr-o1uYBNgN"
      },
      "execution_count": 145,
      "outputs": []
    },
    {
      "cell_type": "code",
      "source": [
        "# Use these optimizers to select specific layers to update\n",
        "\n",
        "#optimizer = optim.SGD(net.parameters(), lr = INITIAL_LR, momentum = MOMENTUM, weight_decay = REG)\n",
        "#optimizer = optim.SGD(net.linear.parameters(), lr = INITIAL_LR, momentum = MOMENTUM, weight_decay = REG)\n",
        "\n",
        "params = list(net.linear.parameters()) + list(net.layer3.parameters())\n",
        "optimizer = optim.SGD(params, lr = INITIAL_LR, momentum = MOMENTUM, weight_decay = REG)"
      ],
      "metadata": {
        "id": "pLnH-rakGI7T"
      },
      "execution_count": 150,
      "outputs": []
    },
    {
      "cell_type": "code",
      "source": [
        "# Semi-Supervised\n",
        "\n",
        "# Taking Subsets of CIFAR Dataset for Semi-Supervised Training\n",
        "# Creates a subset with the specified number of data points from each class\n",
        "\n",
        "def get_subset_trainloader(trainset, num):\n",
        "  train_indices = torch.tensor([])\n",
        "\n",
        "  # Randomly select num samples from each class, and append to tensor of all indices\n",
        "  for i in range(10):\n",
        "    curr_class_labels = torch.tensor(trainset.targets) == i\n",
        "    indices = curr_class_labels.nonzero().reshape(-1)\n",
        "    indices_of_selected_indices = torch.randperm(len(indices))[:num]\n",
        "    selected_indices = indices[indices_of_selected_indices]\n",
        "    train_indices = torch.cat((train_indices, selected_indices))\n",
        "  \n",
        "  # Create data subset using indices, and create train_loader from this subset\n",
        "  train_indices = train_indices.tolist()\n",
        "  train_indices = [int(x) for x in train_indices]\n",
        "  data_subset = torch.utils.data.Subset(trainset, train_indices)\n",
        "  train_loader = torch.utils.data.DataLoader(data_subset, batch_size=128, shuffle=True, num_workers=16)\n",
        "  return train_loader\n",
        "\n",
        "# Note that 5000 is all of the images from each class\n",
        "train_loader = get_subset_trainloader(trainset, 5000)"
      ],
      "metadata": {
        "id": "wPt0awXYoKZC"
      },
      "execution_count": 142,
      "outputs": []
    },
    {
      "cell_type": "code",
      "source": [
        "CHECKPOINT_FOLDER = \"./content/drive/MyDrive/ECE 661/Final Project\"\n",
        "\n",
        "best_val_acc = 0\n",
        "current_learning_rate = INITIAL_LR\n",
        "\n",
        "print(\"==> Training starts!\")\n",
        "print(\"=\"*50)\n",
        "for i in range(0, EPOCHS):\n",
        "    # handle the learning rate scheduler.\n",
        "    if i in DECAY_EPOCHS:\n",
        "        current_learning_rate = current_learning_rate * DECAY\n",
        "        for param_group in optimizer.param_groups:\n",
        "            param_group['lr'] = current_learning_rate\n",
        "        print(\"Current learning rate has decayed to %f\" %current_learning_rate)\n",
        "    \n",
        "    # Training\n",
        "    net.train()\n",
        "    total_examples = 0\n",
        "    correct_examples = 0\n",
        "    train_loss = 0\n",
        "\n",
        "\n",
        "    print(net.layer2[0].conv1.weight[1][1])\n",
        "    print(net.layer3[0].conv1.weight[1][1])\n",
        "    print(net.linear.weight)\n",
        "\n",
        "    print(\"Epoch %d:\" %i)\n",
        "    \n",
        "    # One Epoch\n",
        "    for batch_idx, (inputs, targets) in enumerate(train_loader):\n",
        "      \n",
        "        inputs = inputs.to(device)\n",
        "        targets = targets.to(device)\n",
        "        out = net.forward(inputs)\n",
        "        loss = criterion(out, targets)\n",
        "        net.zero_grad()\n",
        "        loss.backward()\n",
        "        train_loss += loss\n",
        "        optimizer.step()\n",
        "        \n",
        "        # Counting Correct Predictions\n",
        "        for idx, val in enumerate(out):\n",
        "          max_out_idx = torch.argmax(val)\n",
        "          target_idx = targets[idx]\n",
        "\n",
        "          if max_out_idx == target_idx:\n",
        "            correct_examples += 1\n",
        "          \n",
        "          total_examples += 1\n",
        "\n",
        "    print(total_examples)\n",
        "    # Compute Loss/Accuracy     \n",
        "    avg_loss = train_loss / len(train_loader)\n",
        "    avg_acc = correct_examples / total_examples\n",
        "    print(\"Training loss: %.4f, Training accuracy: %.4f\" %(avg_loss, avg_acc))\n",
        "    \n",
        "\n",
        "\n",
        "    # Validation\n",
        "    net.eval()\n",
        "    total_examples = 0\n",
        "    correct_examples = 0\n",
        "    val_loss = 0\n",
        "\n",
        "    # disable gradient during validation, which can save GPU memory\n",
        "    with torch.no_grad():\n",
        "        for batch_idx, (inputs, targets) in enumerate(val_loader):\n",
        "\n",
        "            inputs = inputs.to(device)\n",
        "            targets = targets.to(device)\n",
        "            out = net.forward(inputs)\n",
        "            loss = criterion(out, targets)\n",
        "            val_loss += loss\n",
        "\n",
        "            # Counting Correct Predictions\n",
        "            for idx, val in enumerate(out):\n",
        "              max_out_idx = torch.argmax(val)\n",
        "              target_idx = targets[idx]\n",
        "\n",
        "              if max_out_idx == target_idx:\n",
        "                correct_examples += 1\n",
        "              \n",
        "              total_examples += 1\n",
        "\n",
        "    avg_loss = val_loss / len(val_loader)\n",
        "    avg_acc = correct_examples / total_examples\n",
        "    print(\"Validation loss: %.4f, Validation accuracy: %.4f\" % (avg_loss, avg_acc))\n",
        "    \n",
        "    # save the model checkpoint\n",
        "    if avg_acc > best_val_acc:\n",
        "        best_val_acc = avg_acc\n",
        "        if not os.path.exists(CHECKPOINT_FOLDER):\n",
        "            os.makedirs(CHECKPOINT_FOLDER)\n",
        "        print(\"Saving ...\")\n",
        "        state = {'state_dict': net.state_dict(),\n",
        "                 'epoch': i,\n",
        "                 'lr': current_learning_rate}\n",
        "        torch.save(state, os.path.join(CHECKPOINT_FOLDER, 'RotNet_Linear_NoFT.pth'))\n",
        "        \n",
        "    print('')\n",
        "\n",
        "print(\"=\"*50)\n",
        "print(f\"==> Optimization finished! Best validation accuracy: {best_val_acc:.4f}\")"
      ],
      "metadata": {
        "id": "z9gDNTrdoWGA",
        "outputId": "c3fcf9e1-b18c-4da5-994c-fe8d61335053",
        "colab": {
          "base_uri": "https://localhost:8080/"
        }
      },
      "execution_count": null,
      "outputs": [
        {
          "output_type": "stream",
          "name": "stdout",
          "text": [
            "==> Training starts!\n",
            "==================================================\n",
            "tensor([[-0.0395, -0.0911,  0.0766],\n",
            "        [ 0.1923,  0.2060,  0.0078],\n",
            "        [ 0.0696,  0.1154,  0.0311]], device='cuda:0',\n",
            "       grad_fn=<SelectBackward0>)\n",
            "Epoch 0:\n"
          ]
        },
        {
          "output_type": "stream",
          "name": "stderr",
          "text": [
            "/usr/local/lib/python3.8/dist-packages/torch/utils/data/dataloader.py:554: UserWarning: This DataLoader will create 16 worker processes in total. Our suggested max number of worker in current system is 2, which is smaller than what this DataLoader is going to create. Please be aware that excessive worker creation might get DataLoader running slow or even freeze, lower the worker number to avoid potential slowness/freeze if necessary.\n",
            "  warnings.warn(_create_warning_msg(\n"
          ]
        }
      ]
    },
    {
      "cell_type": "code",
      "execution_count": null,
      "metadata": {
        "id": "w79iPLjtgj_Q"
      },
      "outputs": [],
      "source": [
        "'''\n",
        "Credit goes to https://github.com/p3i0t/SimCLR-CIFAR10\n",
        "'''\n",
        "\n",
        "import torch.nn as nn\n",
        "\n",
        "class SimCLR(nn.Module):\n",
        "    def __init__(self, base_encoder, projection_dim=128):\n",
        "        super().__init__()\n",
        "        self.enc = base_encoder(pretrained=False)  # load model from torchvision.models without pretrained weights.\n",
        "        self.feature_dim = self.enc.fc.in_features\n",
        "\n",
        "        # Customize for CIFAR10. Replace conv 7x7 with conv 3x3, and remove first max pooling.\n",
        "        # See Section B.9 of SimCLR paper.\n",
        "        self.enc.conv1 = nn.Conv2d(3, 64, 3, 1, 1, bias=False)\n",
        "        self.enc.maxpool = nn.Identity()\n",
        "        self.enc.fc = nn.Identity()  # remove final fully connected layer.\n",
        "\n",
        "        # Add MLP projection.\n",
        "        self.projection_dim = projection_dim\n",
        "        self.projector = nn.Sequential(nn.Linear(self.feature_dim, 2048),\n",
        "                                       nn.ReLU(),\n",
        "                                       nn.Linear(2048, projection_dim))\n",
        "\n",
        "    def forward(self, x):\n",
        "        feature = self.enc(x)\n",
        "        projection = self.projector(feature)\n",
        "        return feature, projection\n",
        "\n",
        "def simclr_resnet50():\n",
        "    return SimCLR(torchvision.models.resnet50)"
      ]
    }
  ],
  "metadata": {
    "accelerator": "GPU",
    "colab": {
      "provenance": []
    },
    "gpuClass": "standard",
    "kernelspec": {
      "display_name": "Python 3",
      "language": "python",
      "name": "python3"
    },
    "language_info": {
      "codemirror_mode": {
        "name": "ipython",
        "version": 3
      },
      "file_extension": ".py",
      "mimetype": "text/x-python",
      "name": "python",
      "nbconvert_exporter": "python",
      "pygments_lexer": "ipython3",
      "version": "3.6.13"
    }
  },
  "nbformat": 4,
  "nbformat_minor": 0
}